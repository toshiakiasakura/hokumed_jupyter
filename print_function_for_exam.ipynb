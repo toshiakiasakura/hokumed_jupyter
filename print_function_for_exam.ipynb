{
 "cells": [
  {
   "cell_type": "code",
   "execution_count": 18,
   "metadata": {},
   "outputs": [],
   "source": [
    "import pandas as pd\n",
    "import numpy as np \n",
    "from datetime import datetime\n",
    "import re"
   ]
  },
  {
   "cell_type": "code",
   "execution_count": 19,
   "metadata": {},
   "outputs": [],
   "source": [
    "path = \".csv\" # change this code \n",
    "total_que_num = 100"
   ]
  },
  {
   "cell_type": "code",
   "execution_count": 20,
   "metadata": {},
   "outputs": [
    {
     "data": {
      "text/html": [
       "<div>\n",
       "<style scoped>\n",
       "    .dataframe tbody tr th:only-of-type {\n",
       "        vertical-align: middle;\n",
       "    }\n",
       "\n",
       "    .dataframe tbody tr th {\n",
       "        vertical-align: top;\n",
       "    }\n",
       "\n",
       "    .dataframe thead th {\n",
       "        text-align: right;\n",
       "    }\n",
       "</style>\n",
       "<table border=\"1\" class=\"dataframe\">\n",
       "  <thead>\n",
       "    <tr style=\"text-align: right;\">\n",
       "      <th></th>\n",
       "      <th>タイムスタンプ</th>\n",
       "      <th>ユーザー名</th>\n",
       "      <th>問題番号。(半角数字のみ。問や他の記号を入れない。枝問は小数点を使用)</th>\n",
       "      <th>問題文 。 (問題番号をここに入れないでください。)</th>\n",
       "      <th>選択肢。( 選択肢ごとに、改行をお願いします。)  Ex.a) リネゾリドは、...をきたす。(改行)  b) バンコマイシンは...をきたす。  （改行）</th>\n",
       "      <th>回答の選択肢。自由選択の場合は\"x\"のみ書いてください。Ex. 1)a  2)b.c  3)b,d,e  4)d,e    (問題用紙の通り入力、改行不要 )</th>\n",
       "      <th>何か気づいたことがあれば入力してください。</th>\n",
       "    </tr>\n",
       "  </thead>\n",
       "  <tbody>\n",
       "    <tr>\n",
       "      <th>0</th>\n",
       "      <td>2020/12/18 9:03:46 午後 GMT+9</td>\n",
       "      <td>gmkw53111.med@gmail.com</td>\n",
       "      <td>1</td>\n",
       "      <td>test</td>\n",
       "      <td>NaN</td>\n",
       "      <td>NaN</td>\n",
       "      <td>NaN</td>\n",
       "    </tr>\n",
       "    <tr>\n",
       "      <th>1</th>\n",
       "      <td>2020/12/18 9:04:47 午後 GMT+9</td>\n",
       "      <td>gmkw53111.med@gmail.com</td>\n",
       "      <td>100</td>\n",
       "      <td>y=x-3</td>\n",
       "      <td>a\\naa\\naaa</td>\n",
       "      <td>1,2,3 3,4,5</td>\n",
       "      <td>わかりません</td>\n",
       "    </tr>\n",
       "  </tbody>\n",
       "</table>\n",
       "</div>"
      ],
      "text/plain": [
       "                       タイムスタンプ                    ユーザー名  \\\n",
       "0  2020/12/18 9:03:46 午後 GMT+9  gmkw53111.med@gmail.com   \n",
       "1  2020/12/18 9:04:47 午後 GMT+9  gmkw53111.med@gmail.com   \n",
       "\n",
       "   問題番号。(半角数字のみ。問や他の記号を入れない。枝問は小数点を使用) 問題文 。 (問題番号をここに入れないでください。)   \\\n",
       "0                                    1                        test   \n",
       "1                                  100                       y=x-3   \n",
       "\n",
       "  選択肢。( 選択肢ごとに、改行をお願いします。)  Ex.a) リネゾリドは、...をきたす。(改行)  b) バンコマイシンは...をきたす。  （改行）  \\\n",
       "0                                                NaN                                  \n",
       "1                                         a\\naa\\naaa                                  \n",
       "\n",
       "  回答の選択肢。自由選択の場合は\"x\"のみ書いてください。Ex. 1)a  2)b.c  3)b,d,e  4)d,e    (問題用紙の通り入力、改行不要 )   \\\n",
       "0                                                NaN                                 \n",
       "1                                        1,2,3 3,4,5                                 \n",
       "\n",
       "  何か気づいたことがあれば入力してください。  \n",
       "0                   NaN  \n",
       "1                わかりません  "
      ]
     },
     "execution_count": 20,
     "metadata": {},
     "output_type": "execute_result"
    }
   ],
   "source": [
    "df_m = pd.read_csv(path,header=0)\n",
    "df_m"
   ]
  },
  {
   "cell_type": "code",
   "execution_count": 21,
   "metadata": {},
   "outputs": [
    {
     "data": {
      "text/html": [
       "<div>\n",
       "<style scoped>\n",
       "    .dataframe tbody tr th:only-of-type {\n",
       "        vertical-align: middle;\n",
       "    }\n",
       "\n",
       "    .dataframe tbody tr th {\n",
       "        vertical-align: top;\n",
       "    }\n",
       "\n",
       "    .dataframe thead th {\n",
       "        text-align: right;\n",
       "    }\n",
       "</style>\n",
       "<table border=\"1\" class=\"dataframe\">\n",
       "  <thead>\n",
       "    <tr style=\"text-align: right;\">\n",
       "      <th></th>\n",
       "      <th>time</th>\n",
       "      <th>e_mail</th>\n",
       "      <th>que_num</th>\n",
       "      <th>question</th>\n",
       "      <th>choice</th>\n",
       "      <th>ans_choice</th>\n",
       "      <th>comment</th>\n",
       "    </tr>\n",
       "  </thead>\n",
       "  <tbody>\n",
       "    <tr>\n",
       "      <th>0</th>\n",
       "      <td>2020/12/18 9:03:46 午後 GMT+9</td>\n",
       "      <td>gmkw53111.med@gmail.com</td>\n",
       "      <td>1</td>\n",
       "      <td>test</td>\n",
       "      <td>NaN</td>\n",
       "      <td>NaN</td>\n",
       "      <td>NaN</td>\n",
       "    </tr>\n",
       "    <tr>\n",
       "      <th>1</th>\n",
       "      <td>2020/12/18 9:04:47 午後 GMT+9</td>\n",
       "      <td>gmkw53111.med@gmail.com</td>\n",
       "      <td>100</td>\n",
       "      <td>y=x-3</td>\n",
       "      <td>a\\naa\\naaa</td>\n",
       "      <td>1,2,3 3,4,5</td>\n",
       "      <td>わかりません</td>\n",
       "    </tr>\n",
       "  </tbody>\n",
       "</table>\n",
       "</div>"
      ],
      "text/plain": [
       "                          time                   e_mail  que_num question  \\\n",
       "0  2020/12/18 9:03:46 午後 GMT+9  gmkw53111.med@gmail.com        1     test   \n",
       "1  2020/12/18 9:04:47 午後 GMT+9  gmkw53111.med@gmail.com      100    y=x-3   \n",
       "\n",
       "       choice   ans_choice comment  \n",
       "0         NaN          NaN     NaN  \n",
       "1  a\\naa\\naaa  1,2,3 3,4,5  わかりません  "
      ]
     },
     "execution_count": 21,
     "metadata": {},
     "output_type": "execute_result"
    }
   ],
   "source": [
    "df_m = pd.read_csv(path,header=0)\n",
    "df_m.columns = [\"time\",\"e_mail\",\"que_num\",\"question\",\"choice\",\"ans_choice\",\"comment\"]\n",
    "df = df_m\n",
    "df"
   ]
  },
  {
   "cell_type": "code",
   "execution_count": 22,
   "metadata": {
    "scrolled": true
   },
   "outputs": [
    {
     "data": {
      "text/html": [
       "<div>\n",
       "<style scoped>\n",
       "    .dataframe tbody tr th:only-of-type {\n",
       "        vertical-align: middle;\n",
       "    }\n",
       "\n",
       "    .dataframe tbody tr th {\n",
       "        vertical-align: top;\n",
       "    }\n",
       "\n",
       "    .dataframe thead th {\n",
       "        text-align: right;\n",
       "    }\n",
       "</style>\n",
       "<table border=\"1\" class=\"dataframe\">\n",
       "  <thead>\n",
       "    <tr style=\"text-align: right;\">\n",
       "      <th></th>\n",
       "      <th>time</th>\n",
       "      <th>e_mail</th>\n",
       "      <th>que_num</th>\n",
       "      <th>question</th>\n",
       "      <th>choice</th>\n",
       "      <th>ans_choice</th>\n",
       "      <th>comment</th>\n",
       "    </tr>\n",
       "  </thead>\n",
       "  <tbody>\n",
       "    <tr>\n",
       "      <th>0</th>\n",
       "      <td>2020/12/18 9:03:46 午後 GMT+9</td>\n",
       "      <td>gmkw53111.med@gmail.com</td>\n",
       "      <td>1</td>\n",
       "      <td>test</td>\n",
       "      <td>NaN</td>\n",
       "      <td>NaN</td>\n",
       "      <td>NaN</td>\n",
       "    </tr>\n",
       "    <tr>\n",
       "      <th>1</th>\n",
       "      <td>2020/12/18 9:04:47 午後 GMT+9</td>\n",
       "      <td>gmkw53111.med@gmail.com</td>\n",
       "      <td>100</td>\n",
       "      <td>y=x-3</td>\n",
       "      <td>a\\naa\\naaa</td>\n",
       "      <td>1,2,3 3,4,5</td>\n",
       "      <td>わかりません</td>\n",
       "    </tr>\n",
       "  </tbody>\n",
       "</table>\n",
       "</div>"
      ],
      "text/plain": [
       "                          time                   e_mail  que_num question  \\\n",
       "0  2020/12/18 9:03:46 午後 GMT+9  gmkw53111.med@gmail.com        1     test   \n",
       "1  2020/12/18 9:04:47 午後 GMT+9  gmkw53111.med@gmail.com      100    y=x-3   \n",
       "\n",
       "       choice   ans_choice comment  \n",
       "0         NaN          NaN     NaN  \n",
       "1  a\\naa\\naaa  1,2,3 3,4,5  わかりません  "
      ]
     },
     "execution_count": 22,
     "metadata": {},
     "output_type": "execute_result"
    }
   ],
   "source": [
    "df_sort = df.sort_values(by =  \"que_num\",ascending=True).reset_index(drop=True)\\\n",
    "    .dropna(subset=[\"que_num\"])\n",
    "df_sort"
   ]
  },
  {
   "cell_type": "code",
   "execution_count": 23,
   "metadata": {
    "scrolled": true
   },
   "outputs": [],
   "source": [
    "regex = re.compile(r'^.{,3}[×xX].{,3}$')\n",
    "regex_hatena = re.compile(r'^.{,3}\\?.{,3}$')\n",
    "regex_hate = re.compile(r'.*\\?.*')\n",
    "\n",
    "bool_que = [ False for i in range(total_que_num + 1)]\n",
    "bool_que_sent = [ False for i in range(total_que_num + 1)]\n",
    "bool_choice = [ False for i in range(total_que_num + 1)]\n",
    "bool_ans = [ False for i in range(total_que_num + 1)]\n",
    "bool_que = [ False for i in range(total_que_num + 1)]\n",
    "\n",
    "res = \"\"\n",
    "for i in range(df_sort.shape[0]):\n",
    "    index = i\n",
    "    que_n = int(df_sort[\"que_num\"][index])\n",
    "    question =  str(df_sort[\"question\"][index])\n",
    "    choice = str(df_sort[\"choice\"][index])\n",
    "    ans_choice = str(df_sort[\"ans_choice\"][index])\n",
    "    comment = str(df_sort[\"comment\"][index])\n",
    "    e_mail =  str(df_sort[\"e_mail\"][index])\n",
    "    \n",
    "    bool_que[que_n] = True \n",
    "    if len(regex_hatena.findall(question)) > 0:\n",
    "        bool_que_sent[que_n] = True\n",
    "    if len(regex_hate.findall(choice)) > 0:\n",
    "        bool_choice[que_n] = True\n",
    "    if len(regex_hate.findall(ans_choice)) > 0:\n",
    "        bool_ans[que_n] = True\n",
    "    \n",
    "    \n",
    "    if len(regex.findall(ans_choice)) == 0:\n",
    "        res = res + \"問\" + str(que_n) + \". \" + question + \"\\n\" + choice  + \"\\n\" + ans_choice + \"\\n\" + \"コメント：\" + comment + \"\\n\" + \"担当連絡先：\" + e_mail + \"\\n\\n\"\n",
    "    else:\n",
    "        res = res + \"問\" + str(que_n) + \". \" + question + \"\\n\" + choice  + \"\\n\" + \"コメント：\" + comment + \"\\n\" + \"担当連絡先：\" + e_mail + \"\\n\\n\""
   ]
  },
  {
   "cell_type": "code",
   "execution_count": 24,
   "metadata": {},
   "outputs": [],
   "source": [
    "lack_num = \"【提出されてない、もしくは、一部わからない問題】\" + \"\\n\"\n",
    "for i in range(1,total_que_num+1):\n",
    "    if not bool_que[i]:\n",
    "        lack_num = lack_num + str(i) + \", \"\n",
    "    else:\n",
    "        flag = \"\"\n",
    "        if  bool_que_sent[i]:\n",
    "            flag = flag + \"(問題文)\"\n",
    "            \n",
    "        if  bool_choice[i]:\n",
    "            flag = flag + \"(選択肢)\"\n",
    "        if  bool_ans[i]:\n",
    "            flag = flag + \"(回答の選択肢)\"\n",
    "        if len(flag) > 0:\n",
    "            lack_num = lack_num + str(i) + flag + \", \"\n",
    "            \n",
    "que_tx = lack_num + \"\\n\\n\\n\\n\" + res         "
   ]
  },
  {
   "cell_type": "code",
   "execution_count": 25,
   "metadata": {
    "code_folding": []
   },
   "outputs": [],
   "source": [
    "output_name = \"output_\" + path + \"_\" + \".txt\"\n",
    "with open(output_name,\"w\") as f:\n",
    "    f.writelines(que_tx)"
   ]
  },
  {
   "cell_type": "code",
   "execution_count": null,
   "metadata": {},
   "outputs": [],
   "source": []
  },
  {
   "cell_type": "code",
   "execution_count": null,
   "metadata": {},
   "outputs": [],
   "source": []
  },
  {
   "cell_type": "code",
   "execution_count": null,
   "metadata": {},
   "outputs": [],
   "source": []
  },
  {
   "cell_type": "code",
   "execution_count": null,
   "metadata": {},
   "outputs": [],
   "source": []
  }
 ],
 "metadata": {
  "kernelspec": {
   "display_name": "Python 3",
   "language": "python",
   "name": "python3"
  },
  "language_info": {
   "codemirror_mode": {
    "name": "ipython",
    "version": 3
   },
   "file_extension": ".py",
   "mimetype": "text/x-python",
   "name": "python",
   "nbconvert_exporter": "python",
   "pygments_lexer": "ipython3",
   "version": "3.6.5"
  },
  "toc": {
   "base_numbering": 1,
   "nav_menu": {},
   "number_sections": false,
   "sideBar": true,
   "skip_h1_title": false,
   "title_cell": "Table of Contents",
   "title_sidebar": "Contents",
   "toc_cell": false,
   "toc_position": {},
   "toc_section_display": true,
   "toc_window_display": false
  },
  "varInspector": {
   "cols": {
    "lenName": 16,
    "lenType": 16,
    "lenVar": 40
   },
   "kernels_config": {
    "python": {
     "delete_cmd_postfix": "",
     "delete_cmd_prefix": "del ",
     "library": "var_list.py",
     "varRefreshCmd": "print(var_dic_list())"
    },
    "r": {
     "delete_cmd_postfix": ") ",
     "delete_cmd_prefix": "rm(",
     "library": "var_list.r",
     "varRefreshCmd": "cat(var_dic_list()) "
    }
   },
   "types_to_exclude": [
    "module",
    "function",
    "builtin_function_or_method",
    "instance",
    "_Feature"
   ],
   "window_display": false
  }
 },
 "nbformat": 4,
 "nbformat_minor": 2
}
